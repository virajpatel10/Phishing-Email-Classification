{
 "cells": [
  {
   "cell_type": "code",
   "execution_count": 1,
   "metadata": {},
   "outputs": [
    {
     "name": "stdout",
     "output_type": "stream",
     "text": [
      "Requirement already satisfied: eml_parser in c:\\users\\patel\\anaconda3\\lib\\site-packages (1.17.0)\n",
      "Requirement already satisfied: cchardet in c:\\users\\patel\\anaconda3\\lib\\site-packages (from eml_parser) (2.1.7)\n",
      "Requirement already satisfied: python-dateutil in c:\\users\\patel\\anaconda3\\lib\\site-packages (from eml_parser) (2.8.1)\n",
      "Requirement already satisfied: publicsuffixlist in c:\\users\\patel\\anaconda3\\lib\\site-packages (from eml_parser) (0.7.12)\n",
      "Requirement already satisfied: six>=1.5 in c:\\users\\patel\\anaconda3\\lib\\site-packages (from python-dateutil->eml_parser) (1.14.0)\n",
      "Note: you may need to restart the kernel to use updated packages.\n"
     ]
    }
   ],
   "source": [
    "pip install eml_parser"
   ]
  },
  {
   "cell_type": "code",
   "execution_count": 2,
   "metadata": {},
   "outputs": [
    {
     "name": "stdout",
     "output_type": "stream",
     "text": [
      "Requirement already satisfied: urlextract in c:\\users\\patel\\anaconda3\\lib\\site-packages (1.5.0)\n",
      "Requirement already satisfied: uritools in c:\\users\\patel\\anaconda3\\lib\\site-packages (from urlextract) (4.0.0)\n",
      "Requirement already satisfied: platformdirs in c:\\users\\patel\\anaconda3\\lib\\site-packages (from urlextract) (2.5.1)\n",
      "Requirement already satisfied: idna in c:\\users\\patel\\anaconda3\\lib\\site-packages (from urlextract) (2.8)\n",
      "Requirement already satisfied: filelock in c:\\users\\patel\\anaconda3\\lib\\site-packages (from urlextract) (3.0.12)\n",
      "Note: you may need to restart the kernel to use updated packages.\n"
     ]
    }
   ],
   "source": [
    "pip install urlextract"
   ]
  },
  {
   "cell_type": "code",
   "execution_count": 3,
   "metadata": {},
   "outputs": [],
   "source": [
    "#pip install HTMLParser "
   ]
  },
  {
   "cell_type": "code",
   "execution_count": 4,
   "metadata": {},
   "outputs": [],
   "source": [
    "import datetime\n",
    "import json\n",
    "import eml_parser\n",
    "from bs4 import BeautifulSoup\n",
    "from urlextract import URLExtract\n",
    "import re\n",
    "import glob  \n",
    "import lxml.html\n",
    "from urllib.parse import urlparse\n",
    "import matplotlib.pyplot as plt\n",
    "from sklearn import metrics\n",
    "from sklearn.model_selection import train_test_split as tts\n",
    "from sklearn.ensemble import RandomForestClassifier\n",
    "from sklearn.metrics import accuracy_score,confusion_matrix\n",
    "from sklearn import svm\n",
    "from sklearn.linear_model import LogisticRegression\n",
    "from sklearn.tree import DecisionTreeClassifier\n",
    "from sklearn.neural_network import MLPClassifier\n",
    "import pandas as pd\n",
    "import numpy as np\n",
    "import seaborn as sns"
   ]
  },
  {
   "cell_type": "markdown",
   "metadata": {},
   "source": [
    "## Data pre-processing"
   ]
  },
  {
   "cell_type": "code",
   "execution_count": 5,
   "metadata": {},
   "outputs": [
    {
     "name": "stdout",
     "output_type": "stream",
     "text": [
      "2237\n"
     ]
    }
   ],
   "source": [
    "def json_serial(obj):\n",
    "  if isinstance(obj, datetime.datetime):\n",
    "      serial = obj.isoformat()\n",
    "      return serial\n",
    "\n",
    "def Find(string):\n",
    "  \n",
    "    regex = r\"(?i)\\b((?:https?://|www\\d{0,3}[.]|[a-z0-9.\\-]+[.][a-z]{2,4}/)(?:[^\\s()<>]+|\\(([^\\s()<>]+|(\\([^\\s()<>]+\\)))*\\))+(?:\\(([^\\s()<>]+|(\\([^\\s()<>]+\\)))*\\)|[^\\s`!()\\[\\]{};:'\\\".,<>?«»“”‘’]))\"\n",
    "    url = re.findall(regex,string)      \n",
    "    return [x[0] for x in url]\n",
    "\n",
    "import os, os.path\n",
    "import requests\n",
    "\n",
    "# simple version for working with CWD\n",
    "x= len([name for name in os.listdir('C:/Users/patel/Desktop/internship/dataset/Phishing Dataset/phishing')])\n",
    "print(x)\n",
    "header=[]\n",
    "body=[]\n",
    "\n",
    "url=[]\n",
    "img_url=[]\n",
    "agree=[]\n",
    "paypal=[]\n",
    "login=[]\n",
    "bank=[]\n",
    "verify=[]\n",
    "suspend=[]\n",
    "dear=[]\n",
    "account=[]\n",
    "html=[]\n",
    "body_list=[]\n",
    "text_link_difference=[]\n",
    "\n",
    "f=0\n",
    "\n",
    "img_ext=['.gif','.png','.jpg','.jpeg','.psd','.raw','.heif','.bmp']\n",
    "\n",
    "for name in glob.glob(r'C:/Users/patel/Desktop/internship/dataset/Phishing Dataset/phishing/*[0-9].*'):\n",
    "    u=[]\n",
    "    p=[]\n",
    "    a=0\n",
    "    pa=0\n",
    "    l=0\n",
    "    b=0\n",
    "    v=0\n",
    "    s=0\n",
    "    d=0\n",
    "    ac=0\n",
    "    h=0\n",
    "    f+=1\n",
    "    try:\n",
    "        #with open('../content/drive/MyDrive/internship/Phishing Dataset/phishing/'+str(i)+'.eml', 'rb') as fhdl:\n",
    "        with open(name, 'rb') as fhdl:\n",
    "          raw_email = fhdl.read()\n",
    "        output = str(raw_email, 'cp1252')\n",
    "        email_list=output.split('\\n')\n",
    "        #print(f)\n",
    "        '''\n",
    "        #textlinkdifference\n",
    "        if 'href' in output:\n",
    "            for j in email_list:\n",
    "                if 'href' in j: \n",
    "                    p=Find(j)\n",
    "                    #print(p)\n",
    "                    if [x for x in p if p.count(x) > 1]!=[]:\n",
    "                        text_link_difference.append(1)\n",
    "                    else:\n",
    "                        text_link_difference.append(0)\n",
    "        else:\n",
    "            text_link_difference.append(0)\n",
    "        '''\n",
    "        \n",
    "        k=0\n",
    "        body=''\n",
    "        for j in email_list:\n",
    "            if j=='':\n",
    "                k=1\n",
    "                continue\n",
    "            if k==1:\n",
    "                body=body+j+'\\n'\n",
    "        body_list.append(body)\n",
    "        \n",
    "        \n",
    "        #body is html or not\n",
    "        if bool(BeautifulSoup(body, \"html.parser\").find()):\n",
    "            html.append(1)\n",
    "        else:\n",
    "            html.append(0)\n",
    "        \n",
    "        #check word is present or not in email\n",
    "        if 'agree' in output.lower():\n",
    "            a=1\n",
    "        if 'paypal' in output.lower():\n",
    "            pa=1\n",
    "        if 'login' in output.lower():\n",
    "            l=1\n",
    "        if 'bank' in output.lower():\n",
    "            b=1\n",
    "        if 'suspend' in output.lower():\n",
    "            s=1\n",
    "        if 'dear' in output.lower():\n",
    "            d=1\n",
    "        if 'account' in output.lower():\n",
    "            ac=1\n",
    "        if 'verify' in output.lower():\n",
    "            v=1\n",
    "            \n",
    "        '''\n",
    "        p=Find(output)\n",
    "        \n",
    "        #print(x)\n",
    "        for i in p:\n",
    "            for j in img_ext:\n",
    "                if j in i:\n",
    "                    u.append(i)\n",
    "                    p.remove(i)\n",
    "        '''\n",
    "    except:\n",
    "        continue\n",
    "        \n",
    "    agree.append(a)\n",
    "    paypal.append(pa)\n",
    "    bank.append(b)\n",
    "    suspend.append(s)\n",
    "    dear.append(d)\n",
    "    account.append(ac)\n",
    "    verify.append(v)\n",
    "    html.append(h)\n",
    "    url.append(p)\n",
    "    login.append(l)\n",
    "    img_url.append(u)"
   ]
  },
  {
   "cell_type": "code",
   "execution_count": 6,
   "metadata": {},
   "outputs": [
    {
     "data": {
      "text/plain": [
       "2235"
      ]
     },
     "execution_count": 6,
     "metadata": {},
     "output_type": "execute_result"
    }
   ],
   "source": [
    "len(url)"
   ]
  },
  {
   "cell_type": "code",
   "execution_count": 7,
   "metadata": {},
   "outputs": [],
   "source": [
    "ip_url=[]\n",
    "hex_url=[]\n",
    "for i in url:\n",
    "    count=0\n",
    "    count2=0\n",
    "    for j in i:\n",
    "        \n",
    "        #count hexadecimal character in url\n",
    "        t=re.findall (r'x[0-9a-fA-F]+', j)\n",
    "        if t!=[]:\n",
    "            count2+=1\n",
    "            \n",
    "        #count IP url\n",
    "        regex = r\"(?:https?://[0-9.]+/)\"\n",
    "        x = re.findall(regex,j)\n",
    "        if x:\n",
    "            count+=1\n",
    "    ip_url.append(count)\n",
    "    hex_url.append(count2)"
   ]
  },
  {
   "cell_type": "code",
   "execution_count": 8,
   "metadata": {},
   "outputs": [],
   "source": [
    "\n",
    "#unique domain\n",
    "domain=[]\n",
    "for i in url:\n",
    "    l=[]\n",
    "    for j in i:\n",
    "        d = urlparse(j).netloc\n",
    "        l.append(d)\n",
    "    domain.append(len(set(l)))"
   ]
  },
  {
   "cell_type": "code",
   "execution_count": 9,
   "metadata": {},
   "outputs": [],
   "source": [
    "#maximum dot in url\n",
    "dot=[]\n",
    "for i in url:\n",
    "    count=0\n",
    "    for j in i:\n",
    "        l=j.split('.')\n",
    "        count=max(len(l),count)\n",
    "    dot.append(count)"
   ]
  },
  {
   "cell_type": "code",
   "execution_count": 10,
   "metadata": {},
   "outputs": [
    {
     "name": "stdout",
     "output_type": "stream",
     "text": [
      "2551\n"
     ]
    },
    {
     "name": "stderr",
     "output_type": "stream",
     "text": [
      "C:\\Users\\patel\\anaconda3\\lib\\site-packages\\bs4\\__init__.py:389: UserWarning: \"http://www.post-gazette.com/columnists/20020905brian5.asp\n",
      "\" looks like a URL. Beautiful Soup is not an HTTP client. You should probably use an HTTP client like requests to get the document behind the URL, and feed that document to Beautiful Soup.\n",
      "  ' that document to Beautiful Soup.' % decoded_markup\n"
     ]
    }
   ],
   "source": [
    "count=0\n",
    "x= len([name for name in os.listdir('C:/Users/patel/Desktop/internship/dataset/Phishing Dataset/normal')])\n",
    "print(x)\n",
    "n_header=[]\n",
    "n_body=[]\n",
    "\n",
    "n_url=[]\n",
    "n_img_url=[]\n",
    "n_agree=[]\n",
    "n_paypal=[]\n",
    "n_login=[]\n",
    "n_bank=[]\n",
    "n_verify=[]\n",
    "n_suspend=[]\n",
    "n_dear=[]\n",
    "n_account=[]\n",
    "n_html=[]\n",
    "n_body_list=[]\n",
    "n_text_link_difference=[]\n",
    "\n",
    "for name in glob.glob(r'C:/Users/patel/Desktop/internship/dataset/Phishing Dataset/normal/*[0-9].*'): \n",
    "    count+=1\n",
    "    \n",
    "    u=[]\n",
    "    a=0\n",
    "    pa=0\n",
    "    l=0\n",
    "    b=0\n",
    "    v=0\n",
    "    s=0\n",
    "    d=0\n",
    "    ac=0\n",
    "    h=0\n",
    "    try:\n",
    "        with open(name, 'rb') as fhdl:\n",
    "          raw_email = fhdl.read()\n",
    "        output = str(raw_email, 'UTF-8')\n",
    "        \n",
    "        email_list=output.split('\\n')\n",
    "        if 'href' in output:\n",
    "            for j in email_list:\n",
    "                if 'href' in j:\n",
    "                    p=Find(j)\n",
    "                    #print(p)\n",
    "                    if [x for x in p if p.count(x) > 1]!=[]:\n",
    "                        n_text_link_difference.append(1)\n",
    "                    else:\n",
    "                        n_text_link_difference.append(0)\n",
    "        else:\n",
    "            n_text_link_difference.append(0)\n",
    "        \n",
    "        k=0\n",
    "        body=''\n",
    "        for j in email_list:\n",
    "            if j=='':\n",
    "                k=1\n",
    "                continue\n",
    "            if k==1:\n",
    "                body=body+j+'\\n'\n",
    "        n_body_list.append(body)\n",
    "        \n",
    "        if bool(BeautifulSoup(body, \"html.parser\").find()):\n",
    "            n_html.append(1)\n",
    "        else:\n",
    "            n_html.append(0)\n",
    "        if 'agree' in output.lower():\n",
    "            a=1\n",
    "        if 'paypal' in output.lower():\n",
    "            pa=1\n",
    "        if 'login' in output.lower():\n",
    "            l=1\n",
    "        if 'bank' in output.lower():\n",
    "            b=1\n",
    "        if 'suspend' in output.lower():\n",
    "            s=1\n",
    "        if 'dear' in output.lower():\n",
    "            d=1\n",
    "        if 'account' in output.lower():\n",
    "            ac=1\n",
    "        if 'verify' in output.lower():\n",
    "            v=1\n",
    "                \n",
    "        p=Find(output)\n",
    "        #print(v)\n",
    "        for i in p:\n",
    "            for j in img_ext:\n",
    "                if j in i:\n",
    "                    u.append(i)\n",
    "                    p.remove(i)\n",
    "        '''\n",
    "        ep = eml_parser.EmlParser()\n",
    "        parsed_eml = ep.decode_email_bytes(raw_email)\n",
    "        header.append(parsed_eml['header'])\n",
    "        body.append(parsed_eml['body'][0])'''\n",
    "    except:\n",
    "        continue\n",
    "        \n",
    "    n_agree.append(a)\n",
    "    n_paypal.append(pa)\n",
    "    n_bank.append(b)\n",
    "    n_suspend.append(s)\n",
    "    n_dear.append(d)\n",
    "    n_account.append(ac)\n",
    "    n_verify.append(v)\n",
    "    n_url.append(p)\n",
    "    n_login.append(l)\n",
    "    n_img_url.append(u)"
   ]
  },
  {
   "cell_type": "code",
   "execution_count": 11,
   "metadata": {},
   "outputs": [],
   "source": [
    "n_ip_url=[]\n",
    "n_hex_url=[]\n",
    "for i in n_url:\n",
    "    count=0\n",
    "    count2=0\n",
    "    for j in i:\n",
    "        \n",
    "        t=re.findall (r'x[0-9a-fA-F]+', j)\n",
    "        if t!=[]:\n",
    "            count2+=1\n",
    "            \n",
    "        regex = r\"(?:https?://[0-9.]+/)\"\n",
    "        x = re.findall(regex,j)\n",
    "        if x:\n",
    "            count+=1\n",
    "    n_ip_url.append(count)\n",
    "    n_hex_url.append(count2)"
   ]
  },
  {
   "cell_type": "code",
   "execution_count": 12,
   "metadata": {},
   "outputs": [],
   "source": [
    "n_domain=[]\n",
    "for i in n_url:\n",
    "    l=[]\n",
    "    for j in i:\n",
    "        d = urlparse(j).netloc\n",
    "        l.append(d)\n",
    "    n_domain.append(len(set(l)))"
   ]
  },
  {
   "cell_type": "code",
   "execution_count": 13,
   "metadata": {},
   "outputs": [],
   "source": [
    "n_dot=[]\n",
    "for i in n_url:\n",
    "    count=0\n",
    "    for j in i:\n",
    "        l=j.split('.')\n",
    "        count=max(len(l),count)\n",
    "    n_dot.append(count)"
   ]
  },
  {
   "cell_type": "code",
   "execution_count": 14,
   "metadata": {},
   "outputs": [
    {
     "name": "stdout",
     "output_type": "stream",
     "text": [
      "2410\n"
     ]
    }
   ],
   "source": [
    "print(len(n_url))"
   ]
  },
  {
   "cell_type": "code",
   "execution_count": 15,
   "metadata": {},
   "outputs": [],
   "source": [
    "#dataframe\n",
    "\n",
    "html+=n_html\n",
    "hex_url+=n_hex_url\n",
    "domain+=n_domain\n",
    "dot+=n_dot\n",
    "account+=n_account\n",
    "dear+=n_dear\n",
    "ip_url+=n_ip_url\n",
    "paypal+=n_paypal\n",
    "login+=n_login\n",
    "bank+=n_bank\n",
    "verify+=n_verify\n",
    "agree+=n_agree\n",
    "suspend+=n_suspend"
   ]
  },
  {
   "cell_type": "code",
   "execution_count": 16,
   "metadata": {},
   "outputs": [],
   "source": [
    "output=[]\n",
    "for i in range(len(url)):\n",
    "    output.append(1)\n",
    "for i in range(len(n_url)):\n",
    "    output.append(0)"
   ]
  },
  {
   "cell_type": "code",
   "execution_count": 17,
   "metadata": {},
   "outputs": [],
   "source": [
    "dict = {'html':html,'hex_url':hex_url,'domain_count':domain,'dot_count':dot,'account':account,'dear':dear,'ip_url':ip_url,'paypal':paypal,'login':login,'bank':bank,'verify':verify,'agree':agree,'suspend':suspend,'output':output}"
   ]
  },
  {
   "cell_type": "markdown",
   "metadata": {},
   "source": [
    "## Create Dataframe from data"
   ]
  },
  {
   "cell_type": "code",
   "execution_count": 18,
   "metadata": {},
   "outputs": [
    {
     "data": {
      "text/html": [
       "<div>\n",
       "<style scoped>\n",
       "    .dataframe tbody tr th:only-of-type {\n",
       "        vertical-align: middle;\n",
       "    }\n",
       "\n",
       "    .dataframe tbody tr th {\n",
       "        vertical-align: top;\n",
       "    }\n",
       "\n",
       "    .dataframe thead th {\n",
       "        text-align: right;\n",
       "    }\n",
       "</style>\n",
       "<table border=\"1\" class=\"dataframe\">\n",
       "  <thead>\n",
       "    <tr style=\"text-align: right;\">\n",
       "      <th></th>\n",
       "      <th>html</th>\n",
       "      <th>hex_url</th>\n",
       "      <th>domain_count</th>\n",
       "      <th>dot_count</th>\n",
       "      <th>account</th>\n",
       "      <th>dear</th>\n",
       "      <th>ip_url</th>\n",
       "      <th>paypal</th>\n",
       "      <th>login</th>\n",
       "      <th>bank</th>\n",
       "      <th>verify</th>\n",
       "      <th>agree</th>\n",
       "      <th>suspend</th>\n",
       "      <th>output</th>\n",
       "    </tr>\n",
       "  </thead>\n",
       "  <tbody>\n",
       "    <tr>\n",
       "      <th>0</th>\n",
       "      <td>1.0</td>\n",
       "      <td>0.0</td>\n",
       "      <td>0.0</td>\n",
       "      <td>0.0</td>\n",
       "      <td>1.0</td>\n",
       "      <td>1.0</td>\n",
       "      <td>0.0</td>\n",
       "      <td>0.0</td>\n",
       "      <td>1.0</td>\n",
       "      <td>0.0</td>\n",
       "      <td>0.0</td>\n",
       "      <td>1.0</td>\n",
       "      <td>0.0</td>\n",
       "      <td>1.0</td>\n",
       "    </tr>\n",
       "    <tr>\n",
       "      <th>1</th>\n",
       "      <td>0.0</td>\n",
       "      <td>0.0</td>\n",
       "      <td>0.0</td>\n",
       "      <td>0.0</td>\n",
       "      <td>1.0</td>\n",
       "      <td>0.0</td>\n",
       "      <td>0.0</td>\n",
       "      <td>0.0</td>\n",
       "      <td>0.0</td>\n",
       "      <td>0.0</td>\n",
       "      <td>1.0</td>\n",
       "      <td>1.0</td>\n",
       "      <td>0.0</td>\n",
       "      <td>1.0</td>\n",
       "    </tr>\n",
       "    <tr>\n",
       "      <th>2</th>\n",
       "      <td>1.0</td>\n",
       "      <td>0.0</td>\n",
       "      <td>0.0</td>\n",
       "      <td>0.0</td>\n",
       "      <td>1.0</td>\n",
       "      <td>1.0</td>\n",
       "      <td>0.0</td>\n",
       "      <td>1.0</td>\n",
       "      <td>1.0</td>\n",
       "      <td>0.0</td>\n",
       "      <td>0.0</td>\n",
       "      <td>1.0</td>\n",
       "      <td>0.0</td>\n",
       "      <td>1.0</td>\n",
       "    </tr>\n",
       "    <tr>\n",
       "      <th>3</th>\n",
       "      <td>0.0</td>\n",
       "      <td>0.0</td>\n",
       "      <td>0.0</td>\n",
       "      <td>0.0</td>\n",
       "      <td>1.0</td>\n",
       "      <td>1.0</td>\n",
       "      <td>0.0</td>\n",
       "      <td>1.0</td>\n",
       "      <td>1.0</td>\n",
       "      <td>0.0</td>\n",
       "      <td>0.0</td>\n",
       "      <td>0.0</td>\n",
       "      <td>0.0</td>\n",
       "      <td>1.0</td>\n",
       "    </tr>\n",
       "    <tr>\n",
       "      <th>4</th>\n",
       "      <td>1.0</td>\n",
       "      <td>0.0</td>\n",
       "      <td>0.0</td>\n",
       "      <td>0.0</td>\n",
       "      <td>1.0</td>\n",
       "      <td>0.0</td>\n",
       "      <td>0.0</td>\n",
       "      <td>1.0</td>\n",
       "      <td>1.0</td>\n",
       "      <td>0.0</td>\n",
       "      <td>1.0</td>\n",
       "      <td>0.0</td>\n",
       "      <td>1.0</td>\n",
       "      <td>1.0</td>\n",
       "    </tr>\n",
       "    <tr>\n",
       "      <th>...</th>\n",
       "      <td>...</td>\n",
       "      <td>...</td>\n",
       "      <td>...</td>\n",
       "      <td>...</td>\n",
       "      <td>...</td>\n",
       "      <td>...</td>\n",
       "      <td>...</td>\n",
       "      <td>...</td>\n",
       "      <td>...</td>\n",
       "      <td>...</td>\n",
       "      <td>...</td>\n",
       "      <td>...</td>\n",
       "      <td>...</td>\n",
       "      <td>...</td>\n",
       "    </tr>\n",
       "    <tr>\n",
       "      <th>4640</th>\n",
       "      <td>0.0</td>\n",
       "      <td>0.0</td>\n",
       "      <td>1.0</td>\n",
       "      <td>3.0</td>\n",
       "      <td>0.0</td>\n",
       "      <td>0.0</td>\n",
       "      <td>0.0</td>\n",
       "      <td>0.0</td>\n",
       "      <td>0.0</td>\n",
       "      <td>0.0</td>\n",
       "      <td>0.0</td>\n",
       "      <td>0.0</td>\n",
       "      <td>0.0</td>\n",
       "      <td>0.0</td>\n",
       "    </tr>\n",
       "    <tr>\n",
       "      <th>4641</th>\n",
       "      <td>0.0</td>\n",
       "      <td>0.0</td>\n",
       "      <td>1.0</td>\n",
       "      <td>3.0</td>\n",
       "      <td>0.0</td>\n",
       "      <td>0.0</td>\n",
       "      <td>0.0</td>\n",
       "      <td>0.0</td>\n",
       "      <td>0.0</td>\n",
       "      <td>0.0</td>\n",
       "      <td>0.0</td>\n",
       "      <td>0.0</td>\n",
       "      <td>0.0</td>\n",
       "      <td>0.0</td>\n",
       "    </tr>\n",
       "    <tr>\n",
       "      <th>4642</th>\n",
       "      <td>0.0</td>\n",
       "      <td>0.0</td>\n",
       "      <td>1.0</td>\n",
       "      <td>3.0</td>\n",
       "      <td>0.0</td>\n",
       "      <td>0.0</td>\n",
       "      <td>0.0</td>\n",
       "      <td>0.0</td>\n",
       "      <td>0.0</td>\n",
       "      <td>0.0</td>\n",
       "      <td>0.0</td>\n",
       "      <td>0.0</td>\n",
       "      <td>0.0</td>\n",
       "      <td>0.0</td>\n",
       "    </tr>\n",
       "    <tr>\n",
       "      <th>4643</th>\n",
       "      <td>0.0</td>\n",
       "      <td>0.0</td>\n",
       "      <td>1.0</td>\n",
       "      <td>3.0</td>\n",
       "      <td>0.0</td>\n",
       "      <td>0.0</td>\n",
       "      <td>0.0</td>\n",
       "      <td>0.0</td>\n",
       "      <td>0.0</td>\n",
       "      <td>0.0</td>\n",
       "      <td>0.0</td>\n",
       "      <td>0.0</td>\n",
       "      <td>0.0</td>\n",
       "      <td>0.0</td>\n",
       "    </tr>\n",
       "    <tr>\n",
       "      <th>4644</th>\n",
       "      <td>0.0</td>\n",
       "      <td>0.0</td>\n",
       "      <td>1.0</td>\n",
       "      <td>3.0</td>\n",
       "      <td>0.0</td>\n",
       "      <td>0.0</td>\n",
       "      <td>0.0</td>\n",
       "      <td>0.0</td>\n",
       "      <td>0.0</td>\n",
       "      <td>0.0</td>\n",
       "      <td>0.0</td>\n",
       "      <td>0.0</td>\n",
       "      <td>0.0</td>\n",
       "      <td>0.0</td>\n",
       "    </tr>\n",
       "  </tbody>\n",
       "</table>\n",
       "<p>4645 rows × 14 columns</p>\n",
       "</div>"
      ],
      "text/plain": [
       "      html  hex_url  domain_count  dot_count  account  dear  ip_url  paypal  \\\n",
       "0      1.0      0.0           0.0        0.0      1.0   1.0     0.0     0.0   \n",
       "1      0.0      0.0           0.0        0.0      1.0   0.0     0.0     0.0   \n",
       "2      1.0      0.0           0.0        0.0      1.0   1.0     0.0     1.0   \n",
       "3      0.0      0.0           0.0        0.0      1.0   1.0     0.0     1.0   \n",
       "4      1.0      0.0           0.0        0.0      1.0   0.0     0.0     1.0   \n",
       "...    ...      ...           ...        ...      ...   ...     ...     ...   \n",
       "4640   0.0      0.0           1.0        3.0      0.0   0.0     0.0     0.0   \n",
       "4641   0.0      0.0           1.0        3.0      0.0   0.0     0.0     0.0   \n",
       "4642   0.0      0.0           1.0        3.0      0.0   0.0     0.0     0.0   \n",
       "4643   0.0      0.0           1.0        3.0      0.0   0.0     0.0     0.0   \n",
       "4644   0.0      0.0           1.0        3.0      0.0   0.0     0.0     0.0   \n",
       "\n",
       "      login  bank  verify  agree  suspend  output  \n",
       "0       1.0   0.0     0.0    1.0      0.0     1.0  \n",
       "1       0.0   0.0     1.0    1.0      0.0     1.0  \n",
       "2       1.0   0.0     0.0    1.0      0.0     1.0  \n",
       "3       1.0   0.0     0.0    0.0      0.0     1.0  \n",
       "4       1.0   0.0     1.0    0.0      1.0     1.0  \n",
       "...     ...   ...     ...    ...      ...     ...  \n",
       "4640    0.0   0.0     0.0    0.0      0.0     0.0  \n",
       "4641    0.0   0.0     0.0    0.0      0.0     0.0  \n",
       "4642    0.0   0.0     0.0    0.0      0.0     0.0  \n",
       "4643    0.0   0.0     0.0    0.0      0.0     0.0  \n",
       "4644    0.0   0.0     0.0    0.0      0.0     0.0  \n",
       "\n",
       "[4645 rows x 14 columns]"
      ]
     },
     "execution_count": 18,
     "metadata": {},
     "output_type": "execute_result"
    }
   ],
   "source": [
    "df = pd.DataFrame.from_dict(dict, orient='index')\n",
    "df = df.transpose()\n",
    "df=df[:len(suspend)]\n",
    "df"
   ]
  },
  {
   "cell_type": "code",
   "execution_count": 19,
   "metadata": {},
   "outputs": [
    {
     "data": {
      "text/html": [
       "<div>\n",
       "<style scoped>\n",
       "    .dataframe tbody tr th:only-of-type {\n",
       "        vertical-align: middle;\n",
       "    }\n",
       "\n",
       "    .dataframe tbody tr th {\n",
       "        vertical-align: top;\n",
       "    }\n",
       "\n",
       "    .dataframe thead th {\n",
       "        text-align: right;\n",
       "    }\n",
       "</style>\n",
       "<table border=\"1\" class=\"dataframe\">\n",
       "  <thead>\n",
       "    <tr style=\"text-align: right;\">\n",
       "      <th></th>\n",
       "      <th>html</th>\n",
       "      <th>hex_url</th>\n",
       "      <th>domain_count</th>\n",
       "      <th>dot_count</th>\n",
       "      <th>account</th>\n",
       "      <th>dear</th>\n",
       "      <th>ip_url</th>\n",
       "      <th>paypal</th>\n",
       "      <th>login</th>\n",
       "      <th>bank</th>\n",
       "      <th>verify</th>\n",
       "      <th>agree</th>\n",
       "      <th>suspend</th>\n",
       "      <th>output</th>\n",
       "    </tr>\n",
       "  </thead>\n",
       "  <tbody>\n",
       "    <tr>\n",
       "      <th>0</th>\n",
       "      <td>0.0</td>\n",
       "      <td>0.0</td>\n",
       "      <td>0.0</td>\n",
       "      <td>0.0</td>\n",
       "      <td>1.0</td>\n",
       "      <td>0.0</td>\n",
       "      <td>0.0</td>\n",
       "      <td>0.0</td>\n",
       "      <td>1.0</td>\n",
       "      <td>1.0</td>\n",
       "      <td>0.0</td>\n",
       "      <td>0.0</td>\n",
       "      <td>0.0</td>\n",
       "      <td>1.0</td>\n",
       "    </tr>\n",
       "    <tr>\n",
       "      <th>1</th>\n",
       "      <td>0.0</td>\n",
       "      <td>0.0</td>\n",
       "      <td>0.0</td>\n",
       "      <td>0.0</td>\n",
       "      <td>0.0</td>\n",
       "      <td>1.0</td>\n",
       "      <td>0.0</td>\n",
       "      <td>0.0</td>\n",
       "      <td>0.0</td>\n",
       "      <td>0.0</td>\n",
       "      <td>0.0</td>\n",
       "      <td>0.0</td>\n",
       "      <td>0.0</td>\n",
       "      <td>1.0</td>\n",
       "    </tr>\n",
       "    <tr>\n",
       "      <th>2</th>\n",
       "      <td>0.0</td>\n",
       "      <td>3.0</td>\n",
       "      <td>1.0</td>\n",
       "      <td>2.0</td>\n",
       "      <td>0.0</td>\n",
       "      <td>0.0</td>\n",
       "      <td>0.0</td>\n",
       "      <td>0.0</td>\n",
       "      <td>0.0</td>\n",
       "      <td>0.0</td>\n",
       "      <td>0.0</td>\n",
       "      <td>1.0</td>\n",
       "      <td>0.0</td>\n",
       "      <td>0.0</td>\n",
       "    </tr>\n",
       "    <tr>\n",
       "      <th>3</th>\n",
       "      <td>1.0</td>\n",
       "      <td>0.0</td>\n",
       "      <td>0.0</td>\n",
       "      <td>0.0</td>\n",
       "      <td>1.0</td>\n",
       "      <td>1.0</td>\n",
       "      <td>0.0</td>\n",
       "      <td>0.0</td>\n",
       "      <td>1.0</td>\n",
       "      <td>1.0</td>\n",
       "      <td>0.0</td>\n",
       "      <td>0.0</td>\n",
       "      <td>0.0</td>\n",
       "      <td>1.0</td>\n",
       "    </tr>\n",
       "    <tr>\n",
       "      <th>4</th>\n",
       "      <td>1.0</td>\n",
       "      <td>2.0</td>\n",
       "      <td>4.0</td>\n",
       "      <td>3.0</td>\n",
       "      <td>0.0</td>\n",
       "      <td>0.0</td>\n",
       "      <td>0.0</td>\n",
       "      <td>0.0</td>\n",
       "      <td>0.0</td>\n",
       "      <td>0.0</td>\n",
       "      <td>0.0</td>\n",
       "      <td>0.0</td>\n",
       "      <td>0.0</td>\n",
       "      <td>0.0</td>\n",
       "    </tr>\n",
       "    <tr>\n",
       "      <th>...</th>\n",
       "      <td>...</td>\n",
       "      <td>...</td>\n",
       "      <td>...</td>\n",
       "      <td>...</td>\n",
       "      <td>...</td>\n",
       "      <td>...</td>\n",
       "      <td>...</td>\n",
       "      <td>...</td>\n",
       "      <td>...</td>\n",
       "      <td>...</td>\n",
       "      <td>...</td>\n",
       "      <td>...</td>\n",
       "      <td>...</td>\n",
       "      <td>...</td>\n",
       "    </tr>\n",
       "    <tr>\n",
       "      <th>4640</th>\n",
       "      <td>1.0</td>\n",
       "      <td>0.0</td>\n",
       "      <td>2.0</td>\n",
       "      <td>3.0</td>\n",
       "      <td>0.0</td>\n",
       "      <td>0.0</td>\n",
       "      <td>0.0</td>\n",
       "      <td>0.0</td>\n",
       "      <td>0.0</td>\n",
       "      <td>0.0</td>\n",
       "      <td>0.0</td>\n",
       "      <td>0.0</td>\n",
       "      <td>0.0</td>\n",
       "      <td>0.0</td>\n",
       "    </tr>\n",
       "    <tr>\n",
       "      <th>4641</th>\n",
       "      <td>1.0</td>\n",
       "      <td>0.0</td>\n",
       "      <td>0.0</td>\n",
       "      <td>0.0</td>\n",
       "      <td>0.0</td>\n",
       "      <td>0.0</td>\n",
       "      <td>0.0</td>\n",
       "      <td>0.0</td>\n",
       "      <td>1.0</td>\n",
       "      <td>0.0</td>\n",
       "      <td>0.0</td>\n",
       "      <td>0.0</td>\n",
       "      <td>0.0</td>\n",
       "      <td>1.0</td>\n",
       "    </tr>\n",
       "    <tr>\n",
       "      <th>4642</th>\n",
       "      <td>1.0</td>\n",
       "      <td>3.0</td>\n",
       "      <td>2.0</td>\n",
       "      <td>4.0</td>\n",
       "      <td>0.0</td>\n",
       "      <td>0.0</td>\n",
       "      <td>0.0</td>\n",
       "      <td>0.0</td>\n",
       "      <td>0.0</td>\n",
       "      <td>0.0</td>\n",
       "      <td>0.0</td>\n",
       "      <td>0.0</td>\n",
       "      <td>0.0</td>\n",
       "      <td>0.0</td>\n",
       "    </tr>\n",
       "    <tr>\n",
       "      <th>4643</th>\n",
       "      <td>1.0</td>\n",
       "      <td>2.0</td>\n",
       "      <td>6.0</td>\n",
       "      <td>4.0</td>\n",
       "      <td>0.0</td>\n",
       "      <td>0.0</td>\n",
       "      <td>0.0</td>\n",
       "      <td>0.0</td>\n",
       "      <td>0.0</td>\n",
       "      <td>0.0</td>\n",
       "      <td>0.0</td>\n",
       "      <td>0.0</td>\n",
       "      <td>0.0</td>\n",
       "      <td>0.0</td>\n",
       "    </tr>\n",
       "    <tr>\n",
       "      <th>4644</th>\n",
       "      <td>1.0</td>\n",
       "      <td>0.0</td>\n",
       "      <td>0.0</td>\n",
       "      <td>0.0</td>\n",
       "      <td>1.0</td>\n",
       "      <td>1.0</td>\n",
       "      <td>0.0</td>\n",
       "      <td>1.0</td>\n",
       "      <td>1.0</td>\n",
       "      <td>1.0</td>\n",
       "      <td>0.0</td>\n",
       "      <td>1.0</td>\n",
       "      <td>0.0</td>\n",
       "      <td>1.0</td>\n",
       "    </tr>\n",
       "  </tbody>\n",
       "</table>\n",
       "<p>4645 rows × 14 columns</p>\n",
       "</div>"
      ],
      "text/plain": [
       "      html  hex_url  domain_count  dot_count  account  dear  ip_url  paypal  \\\n",
       "0      0.0      0.0           0.0        0.0      1.0   0.0     0.0     0.0   \n",
       "1      0.0      0.0           0.0        0.0      0.0   1.0     0.0     0.0   \n",
       "2      0.0      3.0           1.0        2.0      0.0   0.0     0.0     0.0   \n",
       "3      1.0      0.0           0.0        0.0      1.0   1.0     0.0     0.0   \n",
       "4      1.0      2.0           4.0        3.0      0.0   0.0     0.0     0.0   \n",
       "...    ...      ...           ...        ...      ...   ...     ...     ...   \n",
       "4640   1.0      0.0           2.0        3.0      0.0   0.0     0.0     0.0   \n",
       "4641   1.0      0.0           0.0        0.0      0.0   0.0     0.0     0.0   \n",
       "4642   1.0      3.0           2.0        4.0      0.0   0.0     0.0     0.0   \n",
       "4643   1.0      2.0           6.0        4.0      0.0   0.0     0.0     0.0   \n",
       "4644   1.0      0.0           0.0        0.0      1.0   1.0     0.0     1.0   \n",
       "\n",
       "      login  bank  verify  agree  suspend  output  \n",
       "0       1.0   1.0     0.0    0.0      0.0     1.0  \n",
       "1       0.0   0.0     0.0    0.0      0.0     1.0  \n",
       "2       0.0   0.0     0.0    1.0      0.0     0.0  \n",
       "3       1.0   1.0     0.0    0.0      0.0     1.0  \n",
       "4       0.0   0.0     0.0    0.0      0.0     0.0  \n",
       "...     ...   ...     ...    ...      ...     ...  \n",
       "4640    0.0   0.0     0.0    0.0      0.0     0.0  \n",
       "4641    1.0   0.0     0.0    0.0      0.0     1.0  \n",
       "4642    0.0   0.0     0.0    0.0      0.0     0.0  \n",
       "4643    0.0   0.0     0.0    0.0      0.0     0.0  \n",
       "4644    1.0   1.0     0.0    1.0      0.0     1.0  \n",
       "\n",
       "[4645 rows x 14 columns]"
      ]
     },
     "execution_count": 19,
     "metadata": {},
     "output_type": "execute_result"
    }
   ],
   "source": [
    "df = df.sample(frac=1, random_state=42).reset_index(drop=True)\n",
    "df"
   ]
  },
  {
   "cell_type": "code",
   "execution_count": 20,
   "metadata": {},
   "outputs": [],
   "source": [
    "df.to_csv('data.csv', header=True, index=False)"
   ]
  },
  {
   "cell_type": "code",
   "execution_count": 21,
   "metadata": {},
   "outputs": [
    {
     "data": {
      "text/html": [
       "<div>\n",
       "<style scoped>\n",
       "    .dataframe tbody tr th:only-of-type {\n",
       "        vertical-align: middle;\n",
       "    }\n",
       "\n",
       "    .dataframe tbody tr th {\n",
       "        vertical-align: top;\n",
       "    }\n",
       "\n",
       "    .dataframe thead th {\n",
       "        text-align: right;\n",
       "    }\n",
       "</style>\n",
       "<table border=\"1\" class=\"dataframe\">\n",
       "  <thead>\n",
       "    <tr style=\"text-align: right;\">\n",
       "      <th></th>\n",
       "      <th>html</th>\n",
       "      <th>hex_url</th>\n",
       "      <th>domain_count</th>\n",
       "      <th>dot_count</th>\n",
       "      <th>account</th>\n",
       "      <th>dear</th>\n",
       "      <th>ip_url</th>\n",
       "      <th>paypal</th>\n",
       "      <th>login</th>\n",
       "      <th>bank</th>\n",
       "      <th>verify</th>\n",
       "      <th>agree</th>\n",
       "      <th>suspend</th>\n",
       "      <th>output</th>\n",
       "    </tr>\n",
       "  </thead>\n",
       "  <tbody>\n",
       "    <tr>\n",
       "      <th>0</th>\n",
       "      <td>0.0</td>\n",
       "      <td>0.0</td>\n",
       "      <td>0.0</td>\n",
       "      <td>0.0</td>\n",
       "      <td>1.0</td>\n",
       "      <td>0.0</td>\n",
       "      <td>0.0</td>\n",
       "      <td>0.0</td>\n",
       "      <td>1.0</td>\n",
       "      <td>1.0</td>\n",
       "      <td>0.0</td>\n",
       "      <td>0.0</td>\n",
       "      <td>0.0</td>\n",
       "      <td>1.0</td>\n",
       "    </tr>\n",
       "    <tr>\n",
       "      <th>1</th>\n",
       "      <td>0.0</td>\n",
       "      <td>0.0</td>\n",
       "      <td>0.0</td>\n",
       "      <td>0.0</td>\n",
       "      <td>0.0</td>\n",
       "      <td>1.0</td>\n",
       "      <td>0.0</td>\n",
       "      <td>0.0</td>\n",
       "      <td>0.0</td>\n",
       "      <td>0.0</td>\n",
       "      <td>0.0</td>\n",
       "      <td>0.0</td>\n",
       "      <td>0.0</td>\n",
       "      <td>1.0</td>\n",
       "    </tr>\n",
       "    <tr>\n",
       "      <th>2</th>\n",
       "      <td>0.0</td>\n",
       "      <td>3.0</td>\n",
       "      <td>1.0</td>\n",
       "      <td>2.0</td>\n",
       "      <td>0.0</td>\n",
       "      <td>0.0</td>\n",
       "      <td>0.0</td>\n",
       "      <td>0.0</td>\n",
       "      <td>0.0</td>\n",
       "      <td>0.0</td>\n",
       "      <td>0.0</td>\n",
       "      <td>1.0</td>\n",
       "      <td>0.0</td>\n",
       "      <td>0.0</td>\n",
       "    </tr>\n",
       "    <tr>\n",
       "      <th>3</th>\n",
       "      <td>1.0</td>\n",
       "      <td>0.0</td>\n",
       "      <td>0.0</td>\n",
       "      <td>0.0</td>\n",
       "      <td>1.0</td>\n",
       "      <td>1.0</td>\n",
       "      <td>0.0</td>\n",
       "      <td>0.0</td>\n",
       "      <td>1.0</td>\n",
       "      <td>1.0</td>\n",
       "      <td>0.0</td>\n",
       "      <td>0.0</td>\n",
       "      <td>0.0</td>\n",
       "      <td>1.0</td>\n",
       "    </tr>\n",
       "    <tr>\n",
       "      <th>4</th>\n",
       "      <td>1.0</td>\n",
       "      <td>2.0</td>\n",
       "      <td>4.0</td>\n",
       "      <td>3.0</td>\n",
       "      <td>0.0</td>\n",
       "      <td>0.0</td>\n",
       "      <td>0.0</td>\n",
       "      <td>0.0</td>\n",
       "      <td>0.0</td>\n",
       "      <td>0.0</td>\n",
       "      <td>0.0</td>\n",
       "      <td>0.0</td>\n",
       "      <td>0.0</td>\n",
       "      <td>0.0</td>\n",
       "    </tr>\n",
       "    <tr>\n",
       "      <th>...</th>\n",
       "      <td>...</td>\n",
       "      <td>...</td>\n",
       "      <td>...</td>\n",
       "      <td>...</td>\n",
       "      <td>...</td>\n",
       "      <td>...</td>\n",
       "      <td>...</td>\n",
       "      <td>...</td>\n",
       "      <td>...</td>\n",
       "      <td>...</td>\n",
       "      <td>...</td>\n",
       "      <td>...</td>\n",
       "      <td>...</td>\n",
       "      <td>...</td>\n",
       "    </tr>\n",
       "    <tr>\n",
       "      <th>4640</th>\n",
       "      <td>1.0</td>\n",
       "      <td>0.0</td>\n",
       "      <td>2.0</td>\n",
       "      <td>3.0</td>\n",
       "      <td>0.0</td>\n",
       "      <td>0.0</td>\n",
       "      <td>0.0</td>\n",
       "      <td>0.0</td>\n",
       "      <td>0.0</td>\n",
       "      <td>0.0</td>\n",
       "      <td>0.0</td>\n",
       "      <td>0.0</td>\n",
       "      <td>0.0</td>\n",
       "      <td>0.0</td>\n",
       "    </tr>\n",
       "    <tr>\n",
       "      <th>4641</th>\n",
       "      <td>1.0</td>\n",
       "      <td>0.0</td>\n",
       "      <td>0.0</td>\n",
       "      <td>0.0</td>\n",
       "      <td>0.0</td>\n",
       "      <td>0.0</td>\n",
       "      <td>0.0</td>\n",
       "      <td>0.0</td>\n",
       "      <td>1.0</td>\n",
       "      <td>0.0</td>\n",
       "      <td>0.0</td>\n",
       "      <td>0.0</td>\n",
       "      <td>0.0</td>\n",
       "      <td>1.0</td>\n",
       "    </tr>\n",
       "    <tr>\n",
       "      <th>4642</th>\n",
       "      <td>1.0</td>\n",
       "      <td>3.0</td>\n",
       "      <td>2.0</td>\n",
       "      <td>4.0</td>\n",
       "      <td>0.0</td>\n",
       "      <td>0.0</td>\n",
       "      <td>0.0</td>\n",
       "      <td>0.0</td>\n",
       "      <td>0.0</td>\n",
       "      <td>0.0</td>\n",
       "      <td>0.0</td>\n",
       "      <td>0.0</td>\n",
       "      <td>0.0</td>\n",
       "      <td>0.0</td>\n",
       "    </tr>\n",
       "    <tr>\n",
       "      <th>4643</th>\n",
       "      <td>1.0</td>\n",
       "      <td>2.0</td>\n",
       "      <td>6.0</td>\n",
       "      <td>4.0</td>\n",
       "      <td>0.0</td>\n",
       "      <td>0.0</td>\n",
       "      <td>0.0</td>\n",
       "      <td>0.0</td>\n",
       "      <td>0.0</td>\n",
       "      <td>0.0</td>\n",
       "      <td>0.0</td>\n",
       "      <td>0.0</td>\n",
       "      <td>0.0</td>\n",
       "      <td>0.0</td>\n",
       "    </tr>\n",
       "    <tr>\n",
       "      <th>4644</th>\n",
       "      <td>1.0</td>\n",
       "      <td>0.0</td>\n",
       "      <td>0.0</td>\n",
       "      <td>0.0</td>\n",
       "      <td>1.0</td>\n",
       "      <td>1.0</td>\n",
       "      <td>0.0</td>\n",
       "      <td>1.0</td>\n",
       "      <td>1.0</td>\n",
       "      <td>1.0</td>\n",
       "      <td>0.0</td>\n",
       "      <td>1.0</td>\n",
       "      <td>0.0</td>\n",
       "      <td>1.0</td>\n",
       "    </tr>\n",
       "  </tbody>\n",
       "</table>\n",
       "<p>4645 rows × 14 columns</p>\n",
       "</div>"
      ],
      "text/plain": [
       "      html  hex_url  domain_count  dot_count  account  dear  ip_url  paypal  \\\n",
       "0      0.0      0.0           0.0        0.0      1.0   0.0     0.0     0.0   \n",
       "1      0.0      0.0           0.0        0.0      0.0   1.0     0.0     0.0   \n",
       "2      0.0      3.0           1.0        2.0      0.0   0.0     0.0     0.0   \n",
       "3      1.0      0.0           0.0        0.0      1.0   1.0     0.0     0.0   \n",
       "4      1.0      2.0           4.0        3.0      0.0   0.0     0.0     0.0   \n",
       "...    ...      ...           ...        ...      ...   ...     ...     ...   \n",
       "4640   1.0      0.0           2.0        3.0      0.0   0.0     0.0     0.0   \n",
       "4641   1.0      0.0           0.0        0.0      0.0   0.0     0.0     0.0   \n",
       "4642   1.0      3.0           2.0        4.0      0.0   0.0     0.0     0.0   \n",
       "4643   1.0      2.0           6.0        4.0      0.0   0.0     0.0     0.0   \n",
       "4644   1.0      0.0           0.0        0.0      1.0   1.0     0.0     1.0   \n",
       "\n",
       "      login  bank  verify  agree  suspend  output  \n",
       "0       1.0   1.0     0.0    0.0      0.0     1.0  \n",
       "1       0.0   0.0     0.0    0.0      0.0     1.0  \n",
       "2       0.0   0.0     0.0    1.0      0.0     0.0  \n",
       "3       1.0   1.0     0.0    0.0      0.0     1.0  \n",
       "4       0.0   0.0     0.0    0.0      0.0     0.0  \n",
       "...     ...   ...     ...    ...      ...     ...  \n",
       "4640    0.0   0.0     0.0    0.0      0.0     0.0  \n",
       "4641    1.0   0.0     0.0    0.0      0.0     1.0  \n",
       "4642    0.0   0.0     0.0    0.0      0.0     0.0  \n",
       "4643    0.0   0.0     0.0    0.0      0.0     0.0  \n",
       "4644    1.0   1.0     0.0    1.0      0.0     1.0  \n",
       "\n",
       "[4645 rows x 14 columns]"
      ]
     },
     "execution_count": 21,
     "metadata": {},
     "output_type": "execute_result"
    }
   ],
   "source": [
    "df=pd.read_csv('data.csv')\n",
    "df"
   ]
  },
  {
   "cell_type": "markdown",
   "metadata": {},
   "source": [
    "### shows correlation of attributes"
   ]
  },
  {
   "cell_type": "code",
   "execution_count": 22,
   "metadata": {},
   "outputs": [
    {
     "data": {
      "text/html": [
       "<div>\n",
       "<style scoped>\n",
       "    .dataframe tbody tr th:only-of-type {\n",
       "        vertical-align: middle;\n",
       "    }\n",
       "\n",
       "    .dataframe tbody tr th {\n",
       "        vertical-align: top;\n",
       "    }\n",
       "\n",
       "    .dataframe thead th {\n",
       "        text-align: right;\n",
       "    }\n",
       "</style>\n",
       "<table border=\"1\" class=\"dataframe\">\n",
       "  <thead>\n",
       "    <tr style=\"text-align: right;\">\n",
       "      <th></th>\n",
       "      <th>html</th>\n",
       "      <th>hex_url</th>\n",
       "      <th>domain_count</th>\n",
       "      <th>dot_count</th>\n",
       "      <th>account</th>\n",
       "      <th>dear</th>\n",
       "      <th>ip_url</th>\n",
       "      <th>paypal</th>\n",
       "      <th>login</th>\n",
       "      <th>bank</th>\n",
       "      <th>verify</th>\n",
       "      <th>agree</th>\n",
       "      <th>suspend</th>\n",
       "      <th>output</th>\n",
       "    </tr>\n",
       "  </thead>\n",
       "  <tbody>\n",
       "    <tr>\n",
       "      <th>html</th>\n",
       "      <td>1.000000</td>\n",
       "      <td>0.021931</td>\n",
       "      <td>0.020164</td>\n",
       "      <td>0.000100</td>\n",
       "      <td>-0.003259</td>\n",
       "      <td>-0.003753</td>\n",
       "      <td>-0.019645</td>\n",
       "      <td>0.005760</td>\n",
       "      <td>0.005045</td>\n",
       "      <td>0.007681</td>\n",
       "      <td>0.018109</td>\n",
       "      <td>0.011651</td>\n",
       "      <td>-0.008025</td>\n",
       "      <td>0.007636</td>\n",
       "    </tr>\n",
       "    <tr>\n",
       "      <th>hex_url</th>\n",
       "      <td>0.021931</td>\n",
       "      <td>1.000000</td>\n",
       "      <td>0.477523</td>\n",
       "      <td>0.445791</td>\n",
       "      <td>-0.333450</td>\n",
       "      <td>-0.316968</td>\n",
       "      <td>-0.011397</td>\n",
       "      <td>-0.215714</td>\n",
       "      <td>-0.424719</td>\n",
       "      <td>-0.270406</td>\n",
       "      <td>-0.144032</td>\n",
       "      <td>-0.092773</td>\n",
       "      <td>-0.170626</td>\n",
       "      <td>-0.528800</td>\n",
       "    </tr>\n",
       "    <tr>\n",
       "      <th>domain_count</th>\n",
       "      <td>0.020164</td>\n",
       "      <td>0.477523</td>\n",
       "      <td>1.000000</td>\n",
       "      <td>0.780867</td>\n",
       "      <td>-0.424747</td>\n",
       "      <td>-0.405630</td>\n",
       "      <td>0.011351</td>\n",
       "      <td>-0.272106</td>\n",
       "      <td>-0.530801</td>\n",
       "      <td>-0.344552</td>\n",
       "      <td>-0.201453</td>\n",
       "      <td>-0.209790</td>\n",
       "      <td>-0.214276</td>\n",
       "      <td>-0.669930</td>\n",
       "    </tr>\n",
       "    <tr>\n",
       "      <th>dot_count</th>\n",
       "      <td>0.000100</td>\n",
       "      <td>0.445791</td>\n",
       "      <td>0.780867</td>\n",
       "      <td>1.000000</td>\n",
       "      <td>-0.570685</td>\n",
       "      <td>-0.537511</td>\n",
       "      <td>0.075568</td>\n",
       "      <td>-0.358128</td>\n",
       "      <td>-0.695317</td>\n",
       "      <td>-0.453736</td>\n",
       "      <td>-0.262912</td>\n",
       "      <td>-0.287241</td>\n",
       "      <td>-0.282682</td>\n",
       "      <td>-0.881447</td>\n",
       "    </tr>\n",
       "    <tr>\n",
       "      <th>account</th>\n",
       "      <td>-0.003259</td>\n",
       "      <td>-0.333450</td>\n",
       "      <td>-0.424747</td>\n",
       "      <td>-0.570685</td>\n",
       "      <td>1.000000</td>\n",
       "      <td>0.538359</td>\n",
       "      <td>-0.014031</td>\n",
       "      <td>0.537465</td>\n",
       "      <td>0.641672</td>\n",
       "      <td>0.275792</td>\n",
       "      <td>0.408808</td>\n",
       "      <td>0.258480</td>\n",
       "      <td>0.456360</td>\n",
       "      <td>0.645358</td>\n",
       "    </tr>\n",
       "    <tr>\n",
       "      <th>dear</th>\n",
       "      <td>-0.003753</td>\n",
       "      <td>-0.316968</td>\n",
       "      <td>-0.405630</td>\n",
       "      <td>-0.537511</td>\n",
       "      <td>0.538359</td>\n",
       "      <td>1.000000</td>\n",
       "      <td>-0.012552</td>\n",
       "      <td>0.216693</td>\n",
       "      <td>0.459236</td>\n",
       "      <td>0.395496</td>\n",
       "      <td>0.196862</td>\n",
       "      <td>0.154495</td>\n",
       "      <td>0.220401</td>\n",
       "      <td>0.610510</td>\n",
       "    </tr>\n",
       "    <tr>\n",
       "      <th>ip_url</th>\n",
       "      <td>-0.019645</td>\n",
       "      <td>-0.011397</td>\n",
       "      <td>0.011351</td>\n",
       "      <td>0.075568</td>\n",
       "      <td>-0.014031</td>\n",
       "      <td>-0.012552</td>\n",
       "      <td>1.000000</td>\n",
       "      <td>-0.008153</td>\n",
       "      <td>-0.016174</td>\n",
       "      <td>-0.010975</td>\n",
       "      <td>-0.006552</td>\n",
       "      <td>-0.009702</td>\n",
       "      <td>-0.006449</td>\n",
       "      <td>-0.019987</td>\n",
       "    </tr>\n",
       "    <tr>\n",
       "      <th>paypal</th>\n",
       "      <td>0.005760</td>\n",
       "      <td>-0.215714</td>\n",
       "      <td>-0.272106</td>\n",
       "      <td>-0.358128</td>\n",
       "      <td>0.537465</td>\n",
       "      <td>0.216693</td>\n",
       "      <td>-0.008153</td>\n",
       "      <td>1.000000</td>\n",
       "      <td>0.476713</td>\n",
       "      <td>-0.076078</td>\n",
       "      <td>0.310063</td>\n",
       "      <td>0.198922</td>\n",
       "      <td>0.315482</td>\n",
       "      <td>0.406665</td>\n",
       "    </tr>\n",
       "    <tr>\n",
       "      <th>login</th>\n",
       "      <td>0.005045</td>\n",
       "      <td>-0.424719</td>\n",
       "      <td>-0.530801</td>\n",
       "      <td>-0.695317</td>\n",
       "      <td>0.641672</td>\n",
       "      <td>0.459236</td>\n",
       "      <td>-0.016174</td>\n",
       "      <td>0.476713</td>\n",
       "      <td>1.000000</td>\n",
       "      <td>0.268099</td>\n",
       "      <td>0.309232</td>\n",
       "      <td>0.381112</td>\n",
       "      <td>0.351735</td>\n",
       "      <td>0.793210</td>\n",
       "    </tr>\n",
       "    <tr>\n",
       "      <th>bank</th>\n",
       "      <td>0.007681</td>\n",
       "      <td>-0.270406</td>\n",
       "      <td>-0.344552</td>\n",
       "      <td>-0.453736</td>\n",
       "      <td>0.275792</td>\n",
       "      <td>0.395496</td>\n",
       "      <td>-0.010975</td>\n",
       "      <td>-0.076078</td>\n",
       "      <td>0.268099</td>\n",
       "      <td>1.000000</td>\n",
       "      <td>0.045376</td>\n",
       "      <td>-0.118177</td>\n",
       "      <td>0.067339</td>\n",
       "      <td>0.515732</td>\n",
       "    </tr>\n",
       "    <tr>\n",
       "      <th>verify</th>\n",
       "      <td>0.018109</td>\n",
       "      <td>-0.144032</td>\n",
       "      <td>-0.201453</td>\n",
       "      <td>-0.262912</td>\n",
       "      <td>0.408808</td>\n",
       "      <td>0.196862</td>\n",
       "      <td>-0.006552</td>\n",
       "      <td>0.310063</td>\n",
       "      <td>0.309232</td>\n",
       "      <td>0.045376</td>\n",
       "      <td>1.000000</td>\n",
       "      <td>0.096760</td>\n",
       "      <td>0.497324</td>\n",
       "      <td>0.297813</td>\n",
       "    </tr>\n",
       "    <tr>\n",
       "      <th>agree</th>\n",
       "      <td>0.011651</td>\n",
       "      <td>-0.092773</td>\n",
       "      <td>-0.209790</td>\n",
       "      <td>-0.287241</td>\n",
       "      <td>0.258480</td>\n",
       "      <td>0.154495</td>\n",
       "      <td>-0.009702</td>\n",
       "      <td>0.198922</td>\n",
       "      <td>0.381112</td>\n",
       "      <td>-0.118177</td>\n",
       "      <td>0.096760</td>\n",
       "      <td>1.000000</td>\n",
       "      <td>0.110214</td>\n",
       "      <td>0.322561</td>\n",
       "    </tr>\n",
       "    <tr>\n",
       "      <th>suspend</th>\n",
       "      <td>-0.008025</td>\n",
       "      <td>-0.170626</td>\n",
       "      <td>-0.214276</td>\n",
       "      <td>-0.282682</td>\n",
       "      <td>0.456360</td>\n",
       "      <td>0.220401</td>\n",
       "      <td>-0.006449</td>\n",
       "      <td>0.315482</td>\n",
       "      <td>0.351735</td>\n",
       "      <td>0.067339</td>\n",
       "      <td>0.497324</td>\n",
       "      <td>0.110214</td>\n",
       "      <td>1.000000</td>\n",
       "      <td>0.321146</td>\n",
       "    </tr>\n",
       "    <tr>\n",
       "      <th>output</th>\n",
       "      <td>0.007636</td>\n",
       "      <td>-0.528800</td>\n",
       "      <td>-0.669930</td>\n",
       "      <td>-0.881447</td>\n",
       "      <td>0.645358</td>\n",
       "      <td>0.610510</td>\n",
       "      <td>-0.019987</td>\n",
       "      <td>0.406665</td>\n",
       "      <td>0.793210</td>\n",
       "      <td>0.515732</td>\n",
       "      <td>0.297813</td>\n",
       "      <td>0.322561</td>\n",
       "      <td>0.321146</td>\n",
       "      <td>1.000000</td>\n",
       "    </tr>\n",
       "  </tbody>\n",
       "</table>\n",
       "</div>"
      ],
      "text/plain": [
       "                  html   hex_url  domain_count  dot_count   account      dear  \\\n",
       "html          1.000000  0.021931      0.020164   0.000100 -0.003259 -0.003753   \n",
       "hex_url       0.021931  1.000000      0.477523   0.445791 -0.333450 -0.316968   \n",
       "domain_count  0.020164  0.477523      1.000000   0.780867 -0.424747 -0.405630   \n",
       "dot_count     0.000100  0.445791      0.780867   1.000000 -0.570685 -0.537511   \n",
       "account      -0.003259 -0.333450     -0.424747  -0.570685  1.000000  0.538359   \n",
       "dear         -0.003753 -0.316968     -0.405630  -0.537511  0.538359  1.000000   \n",
       "ip_url       -0.019645 -0.011397      0.011351   0.075568 -0.014031 -0.012552   \n",
       "paypal        0.005760 -0.215714     -0.272106  -0.358128  0.537465  0.216693   \n",
       "login         0.005045 -0.424719     -0.530801  -0.695317  0.641672  0.459236   \n",
       "bank          0.007681 -0.270406     -0.344552  -0.453736  0.275792  0.395496   \n",
       "verify        0.018109 -0.144032     -0.201453  -0.262912  0.408808  0.196862   \n",
       "agree         0.011651 -0.092773     -0.209790  -0.287241  0.258480  0.154495   \n",
       "suspend      -0.008025 -0.170626     -0.214276  -0.282682  0.456360  0.220401   \n",
       "output        0.007636 -0.528800     -0.669930  -0.881447  0.645358  0.610510   \n",
       "\n",
       "                ip_url    paypal     login      bank    verify     agree  \\\n",
       "html         -0.019645  0.005760  0.005045  0.007681  0.018109  0.011651   \n",
       "hex_url      -0.011397 -0.215714 -0.424719 -0.270406 -0.144032 -0.092773   \n",
       "domain_count  0.011351 -0.272106 -0.530801 -0.344552 -0.201453 -0.209790   \n",
       "dot_count     0.075568 -0.358128 -0.695317 -0.453736 -0.262912 -0.287241   \n",
       "account      -0.014031  0.537465  0.641672  0.275792  0.408808  0.258480   \n",
       "dear         -0.012552  0.216693  0.459236  0.395496  0.196862  0.154495   \n",
       "ip_url        1.000000 -0.008153 -0.016174 -0.010975 -0.006552 -0.009702   \n",
       "paypal       -0.008153  1.000000  0.476713 -0.076078  0.310063  0.198922   \n",
       "login        -0.016174  0.476713  1.000000  0.268099  0.309232  0.381112   \n",
       "bank         -0.010975 -0.076078  0.268099  1.000000  0.045376 -0.118177   \n",
       "verify       -0.006552  0.310063  0.309232  0.045376  1.000000  0.096760   \n",
       "agree        -0.009702  0.198922  0.381112 -0.118177  0.096760  1.000000   \n",
       "suspend      -0.006449  0.315482  0.351735  0.067339  0.497324  0.110214   \n",
       "output       -0.019987  0.406665  0.793210  0.515732  0.297813  0.322561   \n",
       "\n",
       "               suspend    output  \n",
       "html         -0.008025  0.007636  \n",
       "hex_url      -0.170626 -0.528800  \n",
       "domain_count -0.214276 -0.669930  \n",
       "dot_count    -0.282682 -0.881447  \n",
       "account       0.456360  0.645358  \n",
       "dear          0.220401  0.610510  \n",
       "ip_url       -0.006449 -0.019987  \n",
       "paypal        0.315482  0.406665  \n",
       "login         0.351735  0.793210  \n",
       "bank          0.067339  0.515732  \n",
       "verify        0.497324  0.297813  \n",
       "agree         0.110214  0.322561  \n",
       "suspend       1.000000  0.321146  \n",
       "output        0.321146  1.000000  "
      ]
     },
     "execution_count": 22,
     "metadata": {},
     "output_type": "execute_result"
    }
   ],
   "source": [
    "df.corr(method ='pearson')"
   ]
  },
  {
   "cell_type": "code",
   "execution_count": 23,
   "metadata": {},
   "outputs": [],
   "source": [
    "x=df.drop(['output'],axis=1)\n",
    "y=df['output']"
   ]
  },
  {
   "cell_type": "code",
   "execution_count": 24,
   "metadata": {},
   "outputs": [],
   "source": [
    "x=x.to_numpy(dtype ='float32')\n",
    "y=y.to_numpy(dtype ='float32')"
   ]
  },
  {
   "cell_type": "code",
   "execution_count": 25,
   "metadata": {},
   "outputs": [],
   "source": [
    "X_train,X_test,y_train,y_test=tts(x,y,test_size=0.1,random_state=42)"
   ]
  },
  {
   "cell_type": "markdown",
   "metadata": {},
   "source": [
    "## Random Forest Classifier"
   ]
  },
  {
   "cell_type": "code",
   "execution_count": 26,
   "metadata": {},
   "outputs": [
    {
     "data": {
      "text/plain": [
       "RandomForestClassifier(random_state=0)"
      ]
     },
     "execution_count": 26,
     "metadata": {},
     "output_type": "execute_result"
    }
   ],
   "source": [
    "classifier = RandomForestClassifier(n_estimators = 100, random_state = 0)\n",
    "\n",
    "classifier.fit(X_train, y_train)"
   ]
  },
  {
   "cell_type": "code",
   "execution_count": 27,
   "metadata": {},
   "outputs": [],
   "source": [
    "y_pred = classifier.predict(X_test)"
   ]
  },
  {
   "cell_type": "code",
   "execution_count": 28,
   "metadata": {},
   "outputs": [
    {
     "name": "stdout",
     "output_type": "stream",
     "text": [
      "Confusion matrix\n"
     ]
    },
    {
     "data": {
      "text/plain": [
       "array([[250,   1],\n",
       "       [  2, 212]], dtype=int64)"
      ]
     },
     "execution_count": 28,
     "metadata": {},
     "output_type": "execute_result"
    }
   ],
   "source": [
    "print('Confusion matrix')\n",
    "confusion_matrix(y_test, y_pred)"
   ]
  },
  {
   "cell_type": "code",
   "execution_count": 29,
   "metadata": {},
   "outputs": [
    {
     "name": "stdout",
     "output_type": "stream",
     "text": [
      "Accuracy score\n"
     ]
    },
    {
     "data": {
      "text/plain": [
       "0.9935483870967742"
      ]
     },
     "execution_count": 29,
     "metadata": {},
     "output_type": "execute_result"
    }
   ],
   "source": [
    "accuracy=[]\n",
    "classifiers=[]\n",
    "print(\"Accuracy score\")\n",
    "classifiers.append('Random forest')\n",
    "accuracy.append(accuracy_score(y_test, y_pred, normalize=True, sample_weight=None))\n",
    "accuracy_score(y_test, y_pred, normalize=True, sample_weight=None)"
   ]
  },
  {
   "cell_type": "markdown",
   "metadata": {},
   "source": [
    "## SVM"
   ]
  },
  {
   "cell_type": "code",
   "execution_count": 30,
   "metadata": {},
   "outputs": [
    {
     "data": {
      "text/plain": [
       "SVC()"
      ]
     },
     "execution_count": 30,
     "metadata": {},
     "output_type": "execute_result"
    }
   ],
   "source": [
    "clf = svm.SVC()\n",
    "clf.fit(X_train,y_train)"
   ]
  },
  {
   "cell_type": "code",
   "execution_count": 31,
   "metadata": {},
   "outputs": [],
   "source": [
    "y_pred=clf.predict(X_test)"
   ]
  },
  {
   "cell_type": "code",
   "execution_count": 32,
   "metadata": {},
   "outputs": [
    {
     "name": "stdout",
     "output_type": "stream",
     "text": [
      "Confusion matrix\n"
     ]
    },
    {
     "data": {
      "text/plain": [
       "array([[251,   0],\n",
       "       [  2, 212]], dtype=int64)"
      ]
     },
     "execution_count": 32,
     "metadata": {},
     "output_type": "execute_result"
    }
   ],
   "source": [
    "print('Confusion matrix')\n",
    "confusion_matrix(y_test, y_pred)"
   ]
  },
  {
   "cell_type": "code",
   "execution_count": 33,
   "metadata": {},
   "outputs": [
    {
     "name": "stdout",
     "output_type": "stream",
     "text": [
      "Accuracy score\n"
     ]
    },
    {
     "data": {
      "text/plain": [
       "0.9956989247311828"
      ]
     },
     "execution_count": 33,
     "metadata": {},
     "output_type": "execute_result"
    }
   ],
   "source": [
    "print(\"Accuracy score\")\n",
    "classifiers.append('SVM')\n",
    "accuracy.append(accuracy_score(y_test, y_pred, normalize=True, sample_weight=None))\n",
    "accuracy_score(y_test, y_pred, normalize=True, sample_weight=None)"
   ]
  },
  {
   "cell_type": "markdown",
   "metadata": {},
   "source": [
    "## Logistic Regression"
   ]
  },
  {
   "cell_type": "code",
   "execution_count": 34,
   "metadata": {},
   "outputs": [
    {
     "data": {
      "text/plain": [
       "LogisticRegression(random_state=0)"
      ]
     },
     "execution_count": 34,
     "metadata": {},
     "output_type": "execute_result"
    }
   ],
   "source": [
    "classifier = LogisticRegression(random_state = 0)\n",
    "classifier.fit(X_train, y_train)"
   ]
  },
  {
   "cell_type": "code",
   "execution_count": 35,
   "metadata": {},
   "outputs": [],
   "source": [
    "y_pred = classifier.predict(X_test)"
   ]
  },
  {
   "cell_type": "code",
   "execution_count": 36,
   "metadata": {},
   "outputs": [
    {
     "name": "stdout",
     "output_type": "stream",
     "text": [
      "Confusion matrix\n"
     ]
    },
    {
     "data": {
      "text/plain": [
       "array([[249,   2],\n",
       "       [  2, 212]], dtype=int64)"
      ]
     },
     "execution_count": 36,
     "metadata": {},
     "output_type": "execute_result"
    }
   ],
   "source": [
    "print('Confusion matrix')\n",
    "confusion_matrix(y_test, y_pred)"
   ]
  },
  {
   "cell_type": "code",
   "execution_count": 37,
   "metadata": {},
   "outputs": [
    {
     "name": "stdout",
     "output_type": "stream",
     "text": [
      "Accuracy score\n"
     ]
    },
    {
     "data": {
      "text/plain": [
       "0.9913978494623656"
      ]
     },
     "execution_count": 37,
     "metadata": {},
     "output_type": "execute_result"
    }
   ],
   "source": [
    "print(\"Accuracy score\")\n",
    "classifiers.append('Logistic regression')\n",
    "accuracy.append(accuracy_score(y_test, y_pred, normalize=True, sample_weight=None))\n",
    "accuracy_score(y_test, y_pred, normalize=True, sample_weight=None)"
   ]
  },
  {
   "cell_type": "markdown",
   "metadata": {},
   "source": [
    "## Decision Tree classifier"
   ]
  },
  {
   "cell_type": "code",
   "execution_count": 38,
   "metadata": {},
   "outputs": [
    {
     "data": {
      "text/plain": [
       "DecisionTreeClassifier(criterion='entropy', max_depth=3, min_samples_leaf=5,\n",
       "                       random_state=100)"
      ]
     },
     "execution_count": 38,
     "metadata": {},
     "output_type": "execute_result"
    }
   ],
   "source": [
    "clf_entropy = DecisionTreeClassifier(\n",
    "            criterion = \"entropy\", random_state = 100,\n",
    "            max_depth = 3, min_samples_leaf = 5)\n",
    "  \n",
    "# Performing training\n",
    "clf_entropy.fit(X_train, y_train)"
   ]
  },
  {
   "cell_type": "code",
   "execution_count": 39,
   "metadata": {},
   "outputs": [],
   "source": [
    "y_pred = clf_entropy.predict(X_test)"
   ]
  },
  {
   "cell_type": "code",
   "execution_count": 40,
   "metadata": {},
   "outputs": [
    {
     "name": "stdout",
     "output_type": "stream",
     "text": [
      "Confusion matrix\n"
     ]
    },
    {
     "data": {
      "text/plain": [
       "array([[236,  15],\n",
       "       [  0, 214]], dtype=int64)"
      ]
     },
     "execution_count": 40,
     "metadata": {},
     "output_type": "execute_result"
    }
   ],
   "source": [
    "print('Confusion matrix')\n",
    "confusion_matrix(y_test, y_pred)"
   ]
  },
  {
   "cell_type": "code",
   "execution_count": 41,
   "metadata": {},
   "outputs": [
    {
     "name": "stdout",
     "output_type": "stream",
     "text": [
      "Accuracy score\n"
     ]
    },
    {
     "data": {
      "text/plain": [
       "0.967741935483871"
      ]
     },
     "execution_count": 41,
     "metadata": {},
     "output_type": "execute_result"
    }
   ],
   "source": [
    "print(\"Accuracy score\")\n",
    "classifiers.append('Decision Tree')\n",
    "accuracy.append(accuracy_score(y_test, y_pred, normalize=True, sample_weight=None))\n",
    "accuracy_score(y_test, y_pred, normalize=True, sample_weight=None)"
   ]
  },
  {
   "cell_type": "markdown",
   "metadata": {},
   "source": [
    "## MLP Classifier"
   ]
  },
  {
   "cell_type": "code",
   "execution_count": 42,
   "metadata": {},
   "outputs": [
    {
     "data": {
      "text/plain": [
       "MLPClassifier(max_iter=300, random_state=1)"
      ]
     },
     "execution_count": 42,
     "metadata": {},
     "output_type": "execute_result"
    }
   ],
   "source": [
    "clf = MLPClassifier(random_state=1, max_iter=300)\n",
    "clf.fit(X_train, y_train)"
   ]
  },
  {
   "cell_type": "code",
   "execution_count": 43,
   "metadata": {},
   "outputs": [],
   "source": [
    "y_pred = clf.predict(X_test)"
   ]
  },
  {
   "cell_type": "code",
   "execution_count": 44,
   "metadata": {},
   "outputs": [
    {
     "name": "stdout",
     "output_type": "stream",
     "text": [
      "Confusion matrix\n"
     ]
    },
    {
     "data": {
      "text/plain": [
       "array([[250,   1],\n",
       "       [  2, 212]], dtype=int64)"
      ]
     },
     "execution_count": 44,
     "metadata": {},
     "output_type": "execute_result"
    }
   ],
   "source": [
    "print('Confusion matrix')\n",
    "confusion_matrix(y_test, y_pred)"
   ]
  },
  {
   "cell_type": "code",
   "execution_count": 45,
   "metadata": {},
   "outputs": [
    {
     "name": "stdout",
     "output_type": "stream",
     "text": [
      "Accuracy score\n"
     ]
    },
    {
     "data": {
      "text/plain": [
       "0.9935483870967742"
      ]
     },
     "execution_count": 45,
     "metadata": {},
     "output_type": "execute_result"
    }
   ],
   "source": [
    "print(\"Accuracy score\")\n",
    "classifiers.append('MLP')\n",
    "accuracy.append(accuracy_score(y_test, y_pred, normalize=True, sample_weight=None))\n",
    "accuracy_score(y_test, y_pred, normalize=True, sample_weight=None)"
   ]
  },
  {
   "cell_type": "code",
   "execution_count": 48,
   "metadata": {},
   "outputs": [
    {
     "data": {
      "image/png": "[encoded data removed]",
      "text/plain": [
       "<Figure size 1152x648 with 1 Axes>"
      ]
     },
     "metadata": {
      "needs_background": "light"
     },
     "output_type": "display_data"
    }
   ],
   "source": [
    "name = classifiers\n",
    "accuracy = accuracy\n",
    " \n",
    "# Figure Size\n",
    "fig, ax = plt.subplots(figsize =(16, 9))\n",
    " \n",
    "# Horizontal Bar Plot\n",
    "ax.barh(name, accuracy)\n",
    " \n",
    "# Remove axes splines\n",
    "for s in ['top', 'bottom', 'left', 'right']:\n",
    "    ax.spines[s].set_visible(False)\n",
    " \n",
    "# Remove x, y Ticks\n",
    "ax.xaxis.set_ticks_position('none')\n",
    "ax.yaxis.set_ticks_position('none')\n",
    " \n",
    "# Add padding between axes and labels\n",
    "ax.xaxis.set_tick_params(pad = 5)\n",
    "ax.yaxis.set_tick_params(pad = 10)\n",
    " \n",
    "# Add x, y gridlines\n",
    "ax.grid(b = True, color ='grey',\n",
    "        linestyle ='-.', linewidth = 0.5,\n",
    "        alpha = 0.2)\n",
    " \n",
    "# Show top values\n",
    "ax.invert_yaxis()\n",
    " \n",
    "# Add annotation to bars\n",
    "for i in ax.patches:\n",
    "    plt.text(i.get_width()+0.2, i.get_y()+0.5,\n",
    "             str(round((i.get_width()), 3)),\n",
    "             fontsize = 10, fontweight ='bold',\n",
    "             color ='grey')\n",
    " \n",
    "# Add Plot Title\n",
    "ax.set_title('Different model accuracy rate',\n",
    "             loc ='left', )\n",
    "# Show Plot\n",
    "plt.show()"
   ]
  },
  {
   "cell_type": "markdown",
   "metadata": {},
   "source": [
    "## From above graph, SVM is the best model for classifications whether email is phishing or not"
   ]
  }
 ],
 "metadata": {
  "kernelspec": {
   "display_name": "Python 3",
   "language": "python",
   "name": "python3"
  },
  "language_info": {
   "codemirror_mode": {
    "name": "ipython",
    "version": 3
   },
   "file_extension": ".py",
   "mimetype": "text/x-python",
   "name": "python",
   "nbconvert_exporter": "python",
   "pygments_lexer": "ipython3",
   "version": "3.7.6"
  }
 },
 "nbformat": 4,
 "nbformat_minor": 4
}
